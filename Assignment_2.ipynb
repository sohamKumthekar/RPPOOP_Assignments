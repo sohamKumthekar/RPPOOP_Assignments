{
 "cells": [
  {
   "cell_type": "code",
   "execution_count": 1,
   "id": "e6847ab2",
   "metadata": {},
   "outputs": [
    {
     "name": "stdout",
     "output_type": "stream",
     "text": [
      "Hola!\n",
      "Namaste!\n",
      "Bonjour!\n"
     ]
    }
   ],
   "source": [
    "#Assignment_2\n",
    "\n",
    "class spanish:\n",
    "    def greeting(self):\n",
    "        print(\"Hola!\")\n",
    "class Indian:\n",
    "    def greeting(self):\n",
    "        print(\"Namaste!\")\n",
    "class french:\n",
    "    def greeting(self):\n",
    "        print(\"Bonjour!\")\n",
    "p1 = spanish()\n",
    "p1.greeting()\n",
    "\n",
    "p2 = Indian()\n",
    "p2.greeting()\n",
    "\n",
    "p3 = french()\n",
    "p3.greeting()"
   ]
  },
  {
   "cell_type": "code",
   "execution_count": null,
   "id": "4dc09250",
   "metadata": {},
   "outputs": [],
   "source": []
  }
 ],
 "metadata": {
  "kernelspec": {
   "display_name": "Python 3 (ipykernel)",
   "language": "python",
   "name": "python3"
  },
  "language_info": {
   "codemirror_mode": {
    "name": "ipython",
    "version": 3
   },
   "file_extension": ".py",
   "mimetype": "text/x-python",
   "name": "python",
   "nbconvert_exporter": "python",
   "pygments_lexer": "ipython3",
   "version": "3.9.13"
  }
 },
 "nbformat": 4,
 "nbformat_minor": 5
}
