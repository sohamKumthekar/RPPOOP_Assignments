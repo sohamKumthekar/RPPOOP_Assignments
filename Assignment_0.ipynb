{
 "cells": [
  {
   "cell_type": "code",
   "execution_count": 1,
   "id": "360912ef",
   "metadata": {},
   "outputs": [
    {
     "name": "stdout",
     "output_type": "stream",
     "text": [
      "enter length:5\n",
      "enter breadth:4\n",
      "area of rectangle is: 20\n",
      "perimeter of rectangle is: 18\n",
      "length of diagonal is: 6.4\n",
      "New dimensions are:\n",
      "length: 10\n",
      "breadth: 20\n",
      "New area of rectangle is: 200\n"
     ]
    }
   ],
   "source": [
    "#Assignment_0\n",
    "\n",
    "class rectangle:\n",
    "    def __init__(self,l,b):\n",
    "        self.length = l\n",
    "        self.breadth = b\n",
    "    def area(self):\n",
    "        return self.length*self.breadth\n",
    "    def perimeter(self):\n",
    "        return 2*(self.length + self.breadth)\n",
    "    def lenDiagonal(self):\n",
    "        return (self.length**2 + self.breadth**2)**0.5\n",
    "    def setDimensions(self,l,b):\n",
    "        self.length = l\n",
    "        self.breadth = b\n",
    "    def getDimensions(self):\n",
    "        print(\"length:\",self.length)\n",
    "        print(\"breadth:\",self.breadth)\n",
    "a = int(input(\"enter length:\"))\n",
    "b = int(input(\"enter breadth:\"))\n",
    "r1 = rectangle(a,b)\n",
    "\n",
    "#area\n",
    "print(\"area of rectangle is:\",r1.area())\n",
    "\n",
    "# perimeter \n",
    "print(\"perimeter of rectangle is:\",r1.perimeter())\n",
    "\n",
    "#length of diagonal\n",
    "print(\"length of diagonal is:\",round(r1.lenDiagonal(),2))\n",
    "\n",
    "# set new dimensions\n",
    "r1.setDimensions(10,20)\n",
    "print(\"New dimensions are:\")\n",
    "\n",
    "# get new dimensions\n",
    "r1.getDimensions()\n",
    "print(\"New area of rectangle is:\",r1.area())\n"
   ]
  },
  {
   "cell_type": "code",
   "execution_count": null,
   "id": "509158bd",
   "metadata": {},
   "outputs": [],
   "source": []
  }
 ],
 "metadata": {
  "kernelspec": {
   "display_name": "Python 3 (ipykernel)",
   "language": "python",
   "name": "python3"
  },
  "language_info": {
   "codemirror_mode": {
    "name": "ipython",
    "version": 3
   },
   "file_extension": ".py",
   "mimetype": "text/x-python",
   "name": "python",
   "nbconvert_exporter": "python",
   "pygments_lexer": "ipython3",
   "version": "3.9.13"
  }
 },
 "nbformat": 4,
 "nbformat_minor": 5
}
