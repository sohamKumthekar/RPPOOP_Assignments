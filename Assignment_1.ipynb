{
 "cells": [
  {
   "cell_type": "code",
   "execution_count": 1,
   "id": "4b9c7a4e",
   "metadata": {},
   "outputs": [
    {
     "name": "stdout",
     "output_type": "stream",
     "text": [
      "total number of sides: 3\n",
      "Perimeter =  15\n",
      "(5, 5, 5)\n"
     ]
    }
   ],
   "source": [
    "#Assignment_1\n",
    "import math\n",
    "class shapes:\n",
    "    def __init__(self,sides):\n",
    "        self.sides=sides\n",
    "    def setSides(self):\n",
    "        self.sides=int(input(\"Enter no. of sides:\\n\"))\n",
    "    def getSides(self):\n",
    "        return self.sides\n",
    "class circle(shapes):\n",
    "    def __init__(self,radius):\n",
    "        self.r=radius\n",
    "    def printPerimeter(self):\n",
    "        print(\"Perimeter = \",round(2*math.pi*self.r))\n",
    "    def printArea(self):\n",
    "        print(\"Area = \",round(math.pi*self.r*self.r))\n",
    "class square(shapes):\n",
    "    def __init__(self, length):\n",
    "        self.length=length\n",
    "    def setSides(self):\n",
    "        self.sides=4\n",
    "    def printPerimeter(self):\n",
    "        print(\"Perimeter = \",4*self.length)\n",
    "    def printArea(self):\n",
    "        print(\"Area = \",round(self.length*self.length))\n",
    "class triangle(shapes):\n",
    "    def __init__(self,a,b,c):\n",
    "        self.side1=a\n",
    "        self.side2=b\n",
    "        self.side3=c\n",
    "    def setSides(self):\n",
    "        self.sides=3\n",
    "    def setLength():\n",
    "        self.a=int(input())\n",
    "        self.b=int(input())\n",
    "        self.c=int(input())\n",
    "    def getLength(self):\n",
    "        return self.side1,self.side2,self.side3\n",
    "        \n",
    "    def printPerimeter(self):\n",
    "        print(\"Perimeter = \",self.side1+self.side2+self.side3)\n",
    "\n",
    "class equilateralTriangle(triangle):\n",
    "    def __init__(self,a):\n",
    "        self.side=a\n",
    "    def setLength():\n",
    "        self.side=int(input())\n",
    "    def printPerimeter(self):\n",
    "        print(\"Perimeter = \",self.side*3)\n",
    "    def getLength(self):\n",
    "        return self.side,self.side,self.side\n",
    "        \n",
    "        \n",
    "t1 = equilateralTriangle(5)\n",
    "t1.setSides()\n",
    "print(\"total number of sides:\",t1.getSides())\n",
    "t1.printPerimeter()\n",
    "print(t1.getLength())"
   ]
  },
  {
   "cell_type": "code",
   "execution_count": null,
   "id": "6920060d",
   "metadata": {},
   "outputs": [],
   "source": []
  }
 ],
 "metadata": {
  "kernelspec": {
   "display_name": "Python 3 (ipykernel)",
   "language": "python",
   "name": "python3"
  },
  "language_info": {
   "codemirror_mode": {
    "name": "ipython",
    "version": 3
   },
   "file_extension": ".py",
   "mimetype": "text/x-python",
   "name": "python",
   "nbconvert_exporter": "python",
   "pygments_lexer": "ipython3",
   "version": "3.9.13"
  }
 },
 "nbformat": 4,
 "nbformat_minor": 5
}
